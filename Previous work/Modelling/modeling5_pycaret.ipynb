{
 "cells": [
  {
   "cell_type": "markdown",
   "metadata": {},
   "source": [
    "# Imports"
   ]
  },
  {
   "cell_type": "code",
   "execution_count": 1,
   "metadata": {},
   "outputs": [],
   "source": [
    "import pandas as pd\n",
    "import numpy as np\n",
    "from pycaret.classification import *\n",
    "from sklearn.model_selection import train_test_split"
   ]
  },
  {
   "cell_type": "markdown",
   "metadata": {},
   "source": [
    "# The dataset"
   ]
  },
  {
   "cell_type": "code",
   "execution_count": 2,
   "metadata": {},
   "outputs": [],
   "source": [
    "df = pd.read_csv(\"combined_simulated.csv\")"
   ]
  },
  {
   "cell_type": "code",
   "execution_count": 3,
   "metadata": {},
   "outputs": [],
   "source": [
    "# Convert 'UTC_TIME' column to datetime format and sort by time\n",
    "df['UTC_TIME'] = pd.to_datetime(df['UTC_TIME'])\n",
    "df.sort_values(by=['FLIGHT_INSTANCE', 'UTC_TIME'], inplace=True)"
   ]
  },
  {
   "cell_type": "code",
   "execution_count": 4,
   "metadata": {},
   "outputs": [],
   "source": [
    "# Dropping irrelvant columns\n",
    "df = df.drop(columns=['FLIGHT_PHASE_COUNT', 'Flight','MSN', 'FLIGHT_INSTANCE', 'NEW_FLIGHT'])"
   ]
  },
  {
   "cell_type": "code",
   "execution_count": 5,
   "metadata": {},
   "outputs": [
    {
     "name": "stdout",
     "output_type": "stream",
     "text": [
      "<class 'pandas.core.frame.DataFrame'>\n",
      "Index: 376554 entries, 0 to 337922\n",
      "Data columns (total 30 columns):\n",
      " #   Column                     Non-Null Count   Dtype         \n",
      "---  ------                     --------------   -----         \n",
      " 0   UTC_TIME                   376554 non-null  datetime64[ns]\n",
      " 1   FUEL_USED_2                376554 non-null  float64       \n",
      " 2   FUEL_USED_3                376554 non-null  float64       \n",
      " 3   FUEL_USED_4                376554 non-null  float64       \n",
      " 4   FW_GEO_ALTITUDE            376554 non-null  float64       \n",
      " 5   VALUE_FOB                  376554 non-null  float64       \n",
      " 6   VALUE_FUEL_QTY_CT          376554 non-null  float64       \n",
      " 7   VALUE_FUEL_QTY_FT1         376554 non-null  float64       \n",
      " 8   VALUE_FUEL_QTY_FT2         376554 non-null  float64       \n",
      " 9   VALUE_FUEL_QTY_FT3         376554 non-null  float64       \n",
      " 10  VALUE_FUEL_QTY_FT4         376554 non-null  float64       \n",
      " 11  VALUE_FUEL_QTY_LXT         376554 non-null  float64       \n",
      " 12  VALUE_FUEL_QTY_RXT         376554 non-null  float64       \n",
      " 13  FUEL_USED_1                376554 non-null  float64       \n",
      " 14  FLIGHT_ID                  376554 non-null  object        \n",
      " 15  START_FOB                  376554 non-null  float64       \n",
      " 16  TOTAL_FUEL_USED            376554 non-null  float64       \n",
      " 17  EXPECTED_FOB               376554 non-null  float64       \n",
      " 18  FOB_DIFFERENCE             376554 non-null  float64       \n",
      " 19  FOB_CHANGE                 376554 non-null  float64       \n",
      " 20  EXPECTED_FOB_CHANGE        376554 non-null  float64       \n",
      " 21  FUEL_LEAK_RATE             376554 non-null  float64       \n",
      " 22  TOTAL_FUEL_LW              376554 non-null  float64       \n",
      " 23  TOTAL_FUEL_RW              376554 non-null  float64       \n",
      " 24  LW_RW_DIFF                 376554 non-null  float64       \n",
      " 25  FUEL_IN_TANKS              376554 non-null  float64       \n",
      " 26  CALC_VALUE_FOB_DIFF        376554 non-null  float64       \n",
      " 27  START_FOB_VS_FOB_FUELUSED  376554 non-null  float64       \n",
      " 28  ALTITUDE_DIFF              376554 non-null  float64       \n",
      " 29  LEAK_FLOW_FLAG             376554 non-null  int64         \n",
      "dtypes: datetime64[ns](1), float64(27), int64(1), object(1)\n",
      "memory usage: 89.1+ MB\n"
     ]
    }
   ],
   "source": [
    "df.info()"
   ]
  },
  {
   "cell_type": "code",
   "execution_count": 6,
   "metadata": {},
   "outputs": [
    {
     "data": {
      "text/plain": [
       "LEAK_FLOW_FLAG\n",
       "0    343079\n",
       "1     33475\n",
       "Name: count, dtype: int64"
      ]
     },
     "execution_count": 6,
     "metadata": {},
     "output_type": "execute_result"
    }
   ],
   "source": [
    "df['LEAK_FLOW_FLAG'].value_counts()"
   ]
  },
  {
   "cell_type": "markdown",
   "metadata": {},
   "source": [
    "### Cutting out all No-Leak Flights before 2017"
   ]
  },
  {
   "cell_type": "code",
   "execution_count": 7,
   "metadata": {},
   "outputs": [],
   "source": [
    "# Identify flights with leaks (Keep these)\n",
    "leak_flights = df[df[\"LEAK_FLOW_FLAG\"] == 1][\"FLIGHT_ID\"].unique()\n",
    "\n",
    "# Identify no-leak flights that started before 2017\n",
    "no_leak_flights = df[df[\"LEAK_FLOW_FLAG\"] == 0].groupby(\"FLIGHT_ID\")[\"UTC_TIME\"].min()\n",
    "no_leak_flights_to_remove = no_leak_flights[no_leak_flights < \"2017-10-22\"].index"
   ]
  },
  {
   "cell_type": "code",
   "execution_count": 8,
   "metadata": {},
   "outputs": [],
   "source": [
    "# Step 3: Keep all leak flights + no-leak flights that started in 2017 or later\n",
    "df_filtered = df[df[\"FLIGHT_ID\"].isin(leak_flights) | ~df[\"FLIGHT_ID\"].isin(no_leak_flights_to_remove)]"
   ]
  },
  {
   "cell_type": "code",
   "execution_count": 9,
   "metadata": {},
   "outputs": [
    {
     "name": "stdout",
     "output_type": "stream",
     "text": [
      "Original dataset size: 376554\n",
      "Filtered dataset size: 247584\n"
     ]
    }
   ],
   "source": [
    "print(f\"Original dataset size: {df.shape[0]}\")\n",
    "print(f\"Filtered dataset size: {df_filtered.shape[0]}\")"
   ]
  },
  {
   "cell_type": "code",
   "execution_count": 10,
   "metadata": {},
   "outputs": [
    {
     "data": {
      "text/plain": [
       "LEAK_FLOW_FLAG\n",
       "0    214109\n",
       "1     33475\n",
       "Name: count, dtype: int64"
      ]
     },
     "execution_count": 10,
     "metadata": {},
     "output_type": "execute_result"
    }
   ],
   "source": [
    "df_filtered['LEAK_FLOW_FLAG'].value_counts()"
   ]
  },
  {
   "cell_type": "code",
   "execution_count": null,
   "metadata": {},
   "outputs": [
    {
     "name": "stdout",
     "output_type": "stream",
     "text": [
      "median Number of Leaks per Flight: 0.25\n"
     ]
    }
   ],
   "source": [
    "# Get mean of leaks per flight (better than sum bc each flight may have varying flight durations)\n",
    "flight_leak_counts = df_filtered.groupby(\"FLIGHT_ID\")[\"LEAK_FLOW_FLAG\"].mean()\n",
    "\n",
    "# Compute the media Number of Leaks per Flight\n",
    "median_leaks_per_flight = flight_leak_counts[flight_leak_counts > 0].median()\n",
    "print(f\"median Number of Leaks per Flight: {median_leaks_per_flight:.2f}\")\n",
    "\n",
    "# Select flights where the number of leaks is higher than the median\n",
    "flights_with_leaks = flight_leak_counts[flight_leak_counts > median_leaks_per_flight].index\n",
    "\n",
    "# EXTREME Reduction: Only keep 1% as many no-leak flights as leak flights\n",
    "num_leak_flights = len(flights_with_leaks)  # Total number of flights with leaks\n",
    "num_no_leak_flights = int(num_leak_flights * 0.80)  # Cut down no-leak flights aggressively\n",
    "\n",
    "# Sample only the reduced number of no-leak flights\n",
    "flights_no_leaks = flight_leak_counts[flight_leak_counts == 0].sample(\n",
    "    n=num_no_leak_flights, \n",
    "    random_state=42\n",
    ").index\n",
    "\n",
    "# Keep only selected flights (Preserves sequences!)\n",
    "df_balanced = df_filtered[df_filtered[\"FLIGHT_ID\"].isin(flights_with_leaks.union(flights_no_leaks))]"
   ]
  },
  {
   "cell_type": "code",
   "execution_count": 12,
   "metadata": {},
   "outputs": [
    {
     "data": {
      "text/plain": [
       "LEAK_FLOW_FLAG\n",
       "0    76.336882\n",
       "1    23.663118\n",
       "Name: proportion, dtype: float64"
      ]
     },
     "execution_count": 12,
     "metadata": {},
     "output_type": "execute_result"
    }
   ],
   "source": [
    "df_balanced[\"LEAK_FLOW_FLAG\"].value_counts(normalize=True) * 100"
   ]
  },
  {
   "cell_type": "code",
   "execution_count": 13,
   "metadata": {},
   "outputs": [
    {
     "name": "stdout",
     "output_type": "stream",
     "text": [
      "<class 'pandas.core.frame.DataFrame'>\n",
      "Index: 106423 entries, 153 to 337922\n",
      "Data columns (total 30 columns):\n",
      " #   Column                     Non-Null Count   Dtype         \n",
      "---  ------                     --------------   -----         \n",
      " 0   UTC_TIME                   106423 non-null  datetime64[ns]\n",
      " 1   FUEL_USED_2                106423 non-null  float64       \n",
      " 2   FUEL_USED_3                106423 non-null  float64       \n",
      " 3   FUEL_USED_4                106423 non-null  float64       \n",
      " 4   FW_GEO_ALTITUDE            106423 non-null  float64       \n",
      " 5   VALUE_FOB                  106423 non-null  float64       \n",
      " 6   VALUE_FUEL_QTY_CT          106423 non-null  float64       \n",
      " 7   VALUE_FUEL_QTY_FT1         106423 non-null  float64       \n",
      " 8   VALUE_FUEL_QTY_FT2         106423 non-null  float64       \n",
      " 9   VALUE_FUEL_QTY_FT3         106423 non-null  float64       \n",
      " 10  VALUE_FUEL_QTY_FT4         106423 non-null  float64       \n",
      " 11  VALUE_FUEL_QTY_LXT         106423 non-null  float64       \n",
      " 12  VALUE_FUEL_QTY_RXT         106423 non-null  float64       \n",
      " 13  FUEL_USED_1                106423 non-null  float64       \n",
      " 14  FLIGHT_ID                  106423 non-null  object        \n",
      " 15  START_FOB                  106423 non-null  float64       \n",
      " 16  TOTAL_FUEL_USED            106423 non-null  float64       \n",
      " 17  EXPECTED_FOB               106423 non-null  float64       \n",
      " 18  FOB_DIFFERENCE             106423 non-null  float64       \n",
      " 19  FOB_CHANGE                 106423 non-null  float64       \n",
      " 20  EXPECTED_FOB_CHANGE        106423 non-null  float64       \n",
      " 21  FUEL_LEAK_RATE             106423 non-null  float64       \n",
      " 22  TOTAL_FUEL_LW              106423 non-null  float64       \n",
      " 23  TOTAL_FUEL_RW              106423 non-null  float64       \n",
      " 24  LW_RW_DIFF                 106423 non-null  float64       \n",
      " 25  FUEL_IN_TANKS              106423 non-null  float64       \n",
      " 26  CALC_VALUE_FOB_DIFF        106423 non-null  float64       \n",
      " 27  START_FOB_VS_FOB_FUELUSED  106423 non-null  float64       \n",
      " 28  ALTITUDE_DIFF              106423 non-null  float64       \n",
      " 29  LEAK_FLOW_FLAG             106423 non-null  int64         \n",
      "dtypes: datetime64[ns](1), float64(27), int64(1), object(1)\n",
      "memory usage: 25.2+ MB\n"
     ]
    }
   ],
   "source": [
    "df_balanced.info()"
   ]
  },
  {
   "cell_type": "markdown",
   "metadata": {},
   "source": [
    "# Modeling"
   ]
  },
  {
   "cell_type": "code",
   "execution_count": null,
   "metadata": {},
   "outputs": [],
   "source": [
    "# Select all features (except the target)\n",
    "features = df_balanced.columns.tolist()\n",
    "features.remove('LEAK_FLOW_FLAG')  # Remove target column from features\n",
    "\n",
    "# Target variable\n",
    "target = 'LEAK_FLOW_FLAG'"
   ]
  },
  {
   "cell_type": "code",
   "execution_count": 15,
   "metadata": {},
   "outputs": [],
   "source": [
    "# Create lag features (memory for time-series)\n",
    "def create_lag_features(df, features, lags=[1, 3, 5, 10]):\n",
    "    \"\"\"\n",
    "    Adds past values (lags) as new features to help capture time dependency.\n",
    "    \"\"\"\n",
    "    df = df.copy()\n",
    "    for lag in lags:\n",
    "        for feature in features:\n",
    "            df[f'{feature}_lag{lag}'] = df.groupby('FLIGHT_ID')[feature].shift(lag)\n",
    "    return df\n",
    "\n",
    "df_balanced = create_lag_features(df_balanced, features, lags=[1, 3, 5, 10]) "
   ]
  },
  {
   "cell_type": "code",
   "execution_count": 16,
   "metadata": {},
   "outputs": [],
   "source": [
    "# Drop rows with NaN values (due to lagging)\n",
    "df_balanced.dropna(inplace=True)"
   ]
  },
  {
   "cell_type": "code",
   "execution_count": 17,
   "metadata": {},
   "outputs": [
    {
     "name": "stdout",
     "output_type": "stream",
     "text": [
      "<class 'pandas.core.frame.DataFrame'>\n",
      "Index: 104143 entries, 163 to 337922\n",
      "Data columns (total 146 columns):\n",
      " #    Column                           Non-Null Count   Dtype         \n",
      "---   ------                           --------------   -----         \n",
      " 0    UTC_TIME                         104143 non-null  datetime64[ns]\n",
      " 1    FUEL_USED_2                      104143 non-null  float64       \n",
      " 2    FUEL_USED_3                      104143 non-null  float64       \n",
      " 3    FUEL_USED_4                      104143 non-null  float64       \n",
      " 4    FW_GEO_ALTITUDE                  104143 non-null  float64       \n",
      " 5    VALUE_FOB                        104143 non-null  float64       \n",
      " 6    VALUE_FUEL_QTY_CT                104143 non-null  float64       \n",
      " 7    VALUE_FUEL_QTY_FT1               104143 non-null  float64       \n",
      " 8    VALUE_FUEL_QTY_FT2               104143 non-null  float64       \n",
      " 9    VALUE_FUEL_QTY_FT3               104143 non-null  float64       \n",
      " 10   VALUE_FUEL_QTY_FT4               104143 non-null  float64       \n",
      " 11   VALUE_FUEL_QTY_LXT               104143 non-null  float64       \n",
      " 12   VALUE_FUEL_QTY_RXT               104143 non-null  float64       \n",
      " 13   FUEL_USED_1                      104143 non-null  float64       \n",
      " 14   FLIGHT_ID                        104143 non-null  object        \n",
      " 15   START_FOB                        104143 non-null  float64       \n",
      " 16   TOTAL_FUEL_USED                  104143 non-null  float64       \n",
      " 17   EXPECTED_FOB                     104143 non-null  float64       \n",
      " 18   FOB_DIFFERENCE                   104143 non-null  float64       \n",
      " 19   FOB_CHANGE                       104143 non-null  float64       \n",
      " 20   EXPECTED_FOB_CHANGE              104143 non-null  float64       \n",
      " 21   FUEL_LEAK_RATE                   104143 non-null  float64       \n",
      " 22   TOTAL_FUEL_LW                    104143 non-null  float64       \n",
      " 23   TOTAL_FUEL_RW                    104143 non-null  float64       \n",
      " 24   LW_RW_DIFF                       104143 non-null  float64       \n",
      " 25   FUEL_IN_TANKS                    104143 non-null  float64       \n",
      " 26   CALC_VALUE_FOB_DIFF              104143 non-null  float64       \n",
      " 27   START_FOB_VS_FOB_FUELUSED        104143 non-null  float64       \n",
      " 28   ALTITUDE_DIFF                    104143 non-null  float64       \n",
      " 29   LEAK_FLOW_FLAG                   104143 non-null  int64         \n",
      " 30   UTC_TIME_lag1                    104143 non-null  datetime64[ns]\n",
      " 31   FUEL_USED_2_lag1                 104143 non-null  float64       \n",
      " 32   FUEL_USED_3_lag1                 104143 non-null  float64       \n",
      " 33   FUEL_USED_4_lag1                 104143 non-null  float64       \n",
      " 34   FW_GEO_ALTITUDE_lag1             104143 non-null  float64       \n",
      " 35   VALUE_FOB_lag1                   104143 non-null  float64       \n",
      " 36   VALUE_FUEL_QTY_CT_lag1           104143 non-null  float64       \n",
      " 37   VALUE_FUEL_QTY_FT1_lag1          104143 non-null  float64       \n",
      " 38   VALUE_FUEL_QTY_FT2_lag1          104143 non-null  float64       \n",
      " 39   VALUE_FUEL_QTY_FT3_lag1          104143 non-null  float64       \n",
      " 40   VALUE_FUEL_QTY_FT4_lag1          104143 non-null  float64       \n",
      " 41   VALUE_FUEL_QTY_LXT_lag1          104143 non-null  float64       \n",
      " 42   VALUE_FUEL_QTY_RXT_lag1          104143 non-null  float64       \n",
      " 43   FUEL_USED_1_lag1                 104143 non-null  float64       \n",
      " 44   FLIGHT_ID_lag1                   104143 non-null  object        \n",
      " 45   START_FOB_lag1                   104143 non-null  float64       \n",
      " 46   TOTAL_FUEL_USED_lag1             104143 non-null  float64       \n",
      " 47   EXPECTED_FOB_lag1                104143 non-null  float64       \n",
      " 48   FOB_DIFFERENCE_lag1              104143 non-null  float64       \n",
      " 49   FOB_CHANGE_lag1                  104143 non-null  float64       \n",
      " 50   EXPECTED_FOB_CHANGE_lag1         104143 non-null  float64       \n",
      " 51   FUEL_LEAK_RATE_lag1              104143 non-null  float64       \n",
      " 52   TOTAL_FUEL_LW_lag1               104143 non-null  float64       \n",
      " 53   TOTAL_FUEL_RW_lag1               104143 non-null  float64       \n",
      " 54   LW_RW_DIFF_lag1                  104143 non-null  float64       \n",
      " 55   FUEL_IN_TANKS_lag1               104143 non-null  float64       \n",
      " 56   CALC_VALUE_FOB_DIFF_lag1         104143 non-null  float64       \n",
      " 57   START_FOB_VS_FOB_FUELUSED_lag1   104143 non-null  float64       \n",
      " 58   ALTITUDE_DIFF_lag1               104143 non-null  float64       \n",
      " 59   UTC_TIME_lag3                    104143 non-null  datetime64[ns]\n",
      " 60   FUEL_USED_2_lag3                 104143 non-null  float64       \n",
      " 61   FUEL_USED_3_lag3                 104143 non-null  float64       \n",
      " 62   FUEL_USED_4_lag3                 104143 non-null  float64       \n",
      " 63   FW_GEO_ALTITUDE_lag3             104143 non-null  float64       \n",
      " 64   VALUE_FOB_lag3                   104143 non-null  float64       \n",
      " 65   VALUE_FUEL_QTY_CT_lag3           104143 non-null  float64       \n",
      " 66   VALUE_FUEL_QTY_FT1_lag3          104143 non-null  float64       \n",
      " 67   VALUE_FUEL_QTY_FT2_lag3          104143 non-null  float64       \n",
      " 68   VALUE_FUEL_QTY_FT3_lag3          104143 non-null  float64       \n",
      " 69   VALUE_FUEL_QTY_FT4_lag3          104143 non-null  float64       \n",
      " 70   VALUE_FUEL_QTY_LXT_lag3          104143 non-null  float64       \n",
      " 71   VALUE_FUEL_QTY_RXT_lag3          104143 non-null  float64       \n",
      " 72   FUEL_USED_1_lag3                 104143 non-null  float64       \n",
      " 73   FLIGHT_ID_lag3                   104143 non-null  object        \n",
      " 74   START_FOB_lag3                   104143 non-null  float64       \n",
      " 75   TOTAL_FUEL_USED_lag3             104143 non-null  float64       \n",
      " 76   EXPECTED_FOB_lag3                104143 non-null  float64       \n",
      " 77   FOB_DIFFERENCE_lag3              104143 non-null  float64       \n",
      " 78   FOB_CHANGE_lag3                  104143 non-null  float64       \n",
      " 79   EXPECTED_FOB_CHANGE_lag3         104143 non-null  float64       \n",
      " 80   FUEL_LEAK_RATE_lag3              104143 non-null  float64       \n",
      " 81   TOTAL_FUEL_LW_lag3               104143 non-null  float64       \n",
      " 82   TOTAL_FUEL_RW_lag3               104143 non-null  float64       \n",
      " 83   LW_RW_DIFF_lag3                  104143 non-null  float64       \n",
      " 84   FUEL_IN_TANKS_lag3               104143 non-null  float64       \n",
      " 85   CALC_VALUE_FOB_DIFF_lag3         104143 non-null  float64       \n",
      " 86   START_FOB_VS_FOB_FUELUSED_lag3   104143 non-null  float64       \n",
      " 87   ALTITUDE_DIFF_lag3               104143 non-null  float64       \n",
      " 88   UTC_TIME_lag5                    104143 non-null  datetime64[ns]\n",
      " 89   FUEL_USED_2_lag5                 104143 non-null  float64       \n",
      " 90   FUEL_USED_3_lag5                 104143 non-null  float64       \n",
      " 91   FUEL_USED_4_lag5                 104143 non-null  float64       \n",
      " 92   FW_GEO_ALTITUDE_lag5             104143 non-null  float64       \n",
      " 93   VALUE_FOB_lag5                   104143 non-null  float64       \n",
      " 94   VALUE_FUEL_QTY_CT_lag5           104143 non-null  float64       \n",
      " 95   VALUE_FUEL_QTY_FT1_lag5          104143 non-null  float64       \n",
      " 96   VALUE_FUEL_QTY_FT2_lag5          104143 non-null  float64       \n",
      " 97   VALUE_FUEL_QTY_FT3_lag5          104143 non-null  float64       \n",
      " 98   VALUE_FUEL_QTY_FT4_lag5          104143 non-null  float64       \n",
      " 99   VALUE_FUEL_QTY_LXT_lag5          104143 non-null  float64       \n",
      " 100  VALUE_FUEL_QTY_RXT_lag5          104143 non-null  float64       \n",
      " 101  FUEL_USED_1_lag5                 104143 non-null  float64       \n",
      " 102  FLIGHT_ID_lag5                   104143 non-null  object        \n",
      " 103  START_FOB_lag5                   104143 non-null  float64       \n",
      " 104  TOTAL_FUEL_USED_lag5             104143 non-null  float64       \n",
      " 105  EXPECTED_FOB_lag5                104143 non-null  float64       \n",
      " 106  FOB_DIFFERENCE_lag5              104143 non-null  float64       \n",
      " 107  FOB_CHANGE_lag5                  104143 non-null  float64       \n",
      " 108  EXPECTED_FOB_CHANGE_lag5         104143 non-null  float64       \n",
      " 109  FUEL_LEAK_RATE_lag5              104143 non-null  float64       \n",
      " 110  TOTAL_FUEL_LW_lag5               104143 non-null  float64       \n",
      " 111  TOTAL_FUEL_RW_lag5               104143 non-null  float64       \n",
      " 112  LW_RW_DIFF_lag5                  104143 non-null  float64       \n",
      " 113  FUEL_IN_TANKS_lag5               104143 non-null  float64       \n",
      " 114  CALC_VALUE_FOB_DIFF_lag5         104143 non-null  float64       \n",
      " 115  START_FOB_VS_FOB_FUELUSED_lag5   104143 non-null  float64       \n",
      " 116  ALTITUDE_DIFF_lag5               104143 non-null  float64       \n",
      " 117  UTC_TIME_lag10                   104143 non-null  datetime64[ns]\n",
      " 118  FUEL_USED_2_lag10                104143 non-null  float64       \n",
      " 119  FUEL_USED_3_lag10                104143 non-null  float64       \n",
      " 120  FUEL_USED_4_lag10                104143 non-null  float64       \n",
      " 121  FW_GEO_ALTITUDE_lag10            104143 non-null  float64       \n",
      " 122  VALUE_FOB_lag10                  104143 non-null  float64       \n",
      " 123  VALUE_FUEL_QTY_CT_lag10          104143 non-null  float64       \n",
      " 124  VALUE_FUEL_QTY_FT1_lag10         104143 non-null  float64       \n",
      " 125  VALUE_FUEL_QTY_FT2_lag10         104143 non-null  float64       \n",
      " 126  VALUE_FUEL_QTY_FT3_lag10         104143 non-null  float64       \n",
      " 127  VALUE_FUEL_QTY_FT4_lag10         104143 non-null  float64       \n",
      " 128  VALUE_FUEL_QTY_LXT_lag10         104143 non-null  float64       \n",
      " 129  VALUE_FUEL_QTY_RXT_lag10         104143 non-null  float64       \n",
      " 130  FUEL_USED_1_lag10                104143 non-null  float64       \n",
      " 131  FLIGHT_ID_lag10                  104143 non-null  object        \n",
      " 132  START_FOB_lag10                  104143 non-null  float64       \n",
      " 133  TOTAL_FUEL_USED_lag10            104143 non-null  float64       \n",
      " 134  EXPECTED_FOB_lag10               104143 non-null  float64       \n",
      " 135  FOB_DIFFERENCE_lag10             104143 non-null  float64       \n",
      " 136  FOB_CHANGE_lag10                 104143 non-null  float64       \n",
      " 137  EXPECTED_FOB_CHANGE_lag10        104143 non-null  float64       \n",
      " 138  FUEL_LEAK_RATE_lag10             104143 non-null  float64       \n",
      " 139  TOTAL_FUEL_LW_lag10              104143 non-null  float64       \n",
      " 140  TOTAL_FUEL_RW_lag10              104143 non-null  float64       \n",
      " 141  LW_RW_DIFF_lag10                 104143 non-null  float64       \n",
      " 142  FUEL_IN_TANKS_lag10              104143 non-null  float64       \n",
      " 143  CALC_VALUE_FOB_DIFF_lag10        104143 non-null  float64       \n",
      " 144  START_FOB_VS_FOB_FUELUSED_lag10  104143 non-null  float64       \n",
      " 145  ALTITUDE_DIFF_lag10              104143 non-null  float64       \n",
      "dtypes: datetime64[ns](5), float64(135), int64(1), object(5)\n",
      "memory usage: 116.8+ MB\n"
     ]
    }
   ],
   "source": [
    "df_balanced.info(verbose=True, show_counts=True)"
   ]
  },
  {
   "cell_type": "code",
   "execution_count": null,
   "metadata": {},
   "outputs": [],
   "source": [
    "# Sort flights by their first recorded timestamp\n",
    "flight_start_times = df_balanced.groupby(\"FLIGHT_ID\")[\"UTC_TIME\"].min().sort_values()\n",
    "\n",
    "# Define the split point (80% train, 20% test)\n",
    "split_index = int(len(flight_start_times) * 0.8)  # Get the 80% split point\n",
    "\n",
    "# Assign the first 80% of flights to training, last 20% to testing\n",
    "train_flights = flight_start_times.index[:split_index]  # First 80% of flights\n",
    "test_flights = flight_start_times.index[split_index:]  # Last 20% of flights"
   ]
  },
  {
   "cell_type": "code",
   "execution_count": 19,
   "metadata": {},
   "outputs": [],
   "source": [
    "train_df = df_balanced[df_balanced[\"FLIGHT_ID\"].isin(train_flights)]\n",
    "test_df = df_balanced[df_balanced[\"FLIGHT_ID\"].isin(test_flights)]"
   ]
  },
  {
   "cell_type": "code",
   "execution_count": 20,
   "metadata": {},
   "outputs": [
    {
     "data": {
      "text/plain": [
       "LEAK_FLOW_FLAG\n",
       "0    74.962521\n",
       "1    25.037479\n",
       "Name: proportion, dtype: float64"
      ]
     },
     "execution_count": 20,
     "metadata": {},
     "output_type": "execute_result"
    }
   ],
   "source": [
    "train_df[\"LEAK_FLOW_FLAG\"].value_counts(normalize=True) * 100"
   ]
  },
  {
   "cell_type": "code",
   "execution_count": 21,
   "metadata": {},
   "outputs": [],
   "source": [
    "# Reset index (PyCaret needs a clean index)\n",
    "train_df.reset_index(drop=True, inplace=True)\n",
    "test_df.reset_index(drop=True, inplace=True)"
   ]
  },
  {
   "cell_type": "markdown",
   "metadata": {},
   "source": [
    "### Pycaret Classification"
   ]
  },
  {
   "cell_type": "code",
   "execution_count": null,
   "metadata": {},
   "outputs": [
    {
     "data": {
      "text/html": [
       "<style type=\"text/css\">\n",
       "#T_c328c_row10_col1 {\n",
       "  background-color: lightgreen;\n",
       "}\n",
       "</style>\n",
       "<table id=\"T_c328c\">\n",
       "  <thead>\n",
       "    <tr>\n",
       "      <th class=\"blank level0\" >&nbsp;</th>\n",
       "      <th id=\"T_c328c_level0_col0\" class=\"col_heading level0 col0\" >Description</th>\n",
       "      <th id=\"T_c328c_level0_col1\" class=\"col_heading level0 col1\" >Value</th>\n",
       "    </tr>\n",
       "  </thead>\n",
       "  <tbody>\n",
       "    <tr>\n",
       "      <th id=\"T_c328c_level0_row0\" class=\"row_heading level0 row0\" >0</th>\n",
       "      <td id=\"T_c328c_row0_col0\" class=\"data row0 col0\" >Session id</td>\n",
       "      <td id=\"T_c328c_row0_col1\" class=\"data row0 col1\" >42</td>\n",
       "    </tr>\n",
       "    <tr>\n",
       "      <th id=\"T_c328c_level0_row1\" class=\"row_heading level0 row1\" >1</th>\n",
       "      <td id=\"T_c328c_row1_col0\" class=\"data row1 col0\" >Target</td>\n",
       "      <td id=\"T_c328c_row1_col1\" class=\"data row1 col1\" >LEAK_FLOW_FLAG</td>\n",
       "    </tr>\n",
       "    <tr>\n",
       "      <th id=\"T_c328c_level0_row2\" class=\"row_heading level0 row2\" >2</th>\n",
       "      <td id=\"T_c328c_row2_col0\" class=\"data row2 col0\" >Target type</td>\n",
       "      <td id=\"T_c328c_row2_col1\" class=\"data row2 col1\" >Binary</td>\n",
       "    </tr>\n",
       "    <tr>\n",
       "      <th id=\"T_c328c_level0_row3\" class=\"row_heading level0 row3\" >3</th>\n",
       "      <td id=\"T_c328c_row3_col0\" class=\"data row3 col0\" >Original data shape</td>\n",
       "      <td id=\"T_c328c_row3_col1\" class=\"data row3 col1\" >(74041, 146)</td>\n",
       "    </tr>\n",
       "    <tr>\n",
       "      <th id=\"T_c328c_level0_row4\" class=\"row_heading level0 row4\" >4</th>\n",
       "      <td id=\"T_c328c_row4_col0\" class=\"data row4 col0\" >Transformed data shape</td>\n",
       "      <td id=\"T_c328c_row4_col1\" class=\"data row4 col1\" >(74041, 156)</td>\n",
       "    </tr>\n",
       "    <tr>\n",
       "      <th id=\"T_c328c_level0_row5\" class=\"row_heading level0 row5\" >5</th>\n",
       "      <td id=\"T_c328c_row5_col0\" class=\"data row5 col0\" >Transformed train set shape</td>\n",
       "      <td id=\"T_c328c_row5_col1\" class=\"data row5 col1\" >(59232, 156)</td>\n",
       "    </tr>\n",
       "    <tr>\n",
       "      <th id=\"T_c328c_level0_row6\" class=\"row_heading level0 row6\" >6</th>\n",
       "      <td id=\"T_c328c_row6_col0\" class=\"data row6 col0\" >Transformed test set shape</td>\n",
       "      <td id=\"T_c328c_row6_col1\" class=\"data row6 col1\" >(14809, 156)</td>\n",
       "    </tr>\n",
       "    <tr>\n",
       "      <th id=\"T_c328c_level0_row7\" class=\"row_heading level0 row7\" >7</th>\n",
       "      <td id=\"T_c328c_row7_col0\" class=\"data row7 col0\" >Numeric features</td>\n",
       "      <td id=\"T_c328c_row7_col1\" class=\"data row7 col1\" >135</td>\n",
       "    </tr>\n",
       "    <tr>\n",
       "      <th id=\"T_c328c_level0_row8\" class=\"row_heading level0 row8\" >8</th>\n",
       "      <td id=\"T_c328c_row8_col0\" class=\"data row8 col0\" >Date features</td>\n",
       "      <td id=\"T_c328c_row8_col1\" class=\"data row8 col1\" >5</td>\n",
       "    </tr>\n",
       "    <tr>\n",
       "      <th id=\"T_c328c_level0_row9\" class=\"row_heading level0 row9\" >9</th>\n",
       "      <td id=\"T_c328c_row9_col0\" class=\"data row9 col0\" >Categorical features</td>\n",
       "      <td id=\"T_c328c_row9_col1\" class=\"data row9 col1\" >5</td>\n",
       "    </tr>\n",
       "    <tr>\n",
       "      <th id=\"T_c328c_level0_row10\" class=\"row_heading level0 row10\" >10</th>\n",
       "      <td id=\"T_c328c_row10_col0\" class=\"data row10 col0\" >Preprocess</td>\n",
       "      <td id=\"T_c328c_row10_col1\" class=\"data row10 col1\" >True</td>\n",
       "    </tr>\n",
       "    <tr>\n",
       "      <th id=\"T_c328c_level0_row11\" class=\"row_heading level0 row11\" >11</th>\n",
       "      <td id=\"T_c328c_row11_col0\" class=\"data row11 col0\" >Imputation type</td>\n",
       "      <td id=\"T_c328c_row11_col1\" class=\"data row11 col1\" >simple</td>\n",
       "    </tr>\n",
       "    <tr>\n",
       "      <th id=\"T_c328c_level0_row12\" class=\"row_heading level0 row12\" >12</th>\n",
       "      <td id=\"T_c328c_row12_col0\" class=\"data row12 col0\" >Numeric imputation</td>\n",
       "      <td id=\"T_c328c_row12_col1\" class=\"data row12 col1\" >mean</td>\n",
       "    </tr>\n",
       "    <tr>\n",
       "      <th id=\"T_c328c_level0_row13\" class=\"row_heading level0 row13\" >13</th>\n",
       "      <td id=\"T_c328c_row13_col0\" class=\"data row13 col0\" >Categorical imputation</td>\n",
       "      <td id=\"T_c328c_row13_col1\" class=\"data row13 col1\" >mode</td>\n",
       "    </tr>\n",
       "    <tr>\n",
       "      <th id=\"T_c328c_level0_row14\" class=\"row_heading level0 row14\" >14</th>\n",
       "      <td id=\"T_c328c_row14_col0\" class=\"data row14 col0\" >Maximum one-hot encoding</td>\n",
       "      <td id=\"T_c328c_row14_col1\" class=\"data row14 col1\" >25</td>\n",
       "    </tr>\n",
       "    <tr>\n",
       "      <th id=\"T_c328c_level0_row15\" class=\"row_heading level0 row15\" >15</th>\n",
       "      <td id=\"T_c328c_row15_col0\" class=\"data row15 col0\" >Encoding method</td>\n",
       "      <td id=\"T_c328c_row15_col1\" class=\"data row15 col1\" >None</td>\n",
       "    </tr>\n",
       "    <tr>\n",
       "      <th id=\"T_c328c_level0_row16\" class=\"row_heading level0 row16\" >16</th>\n",
       "      <td id=\"T_c328c_row16_col0\" class=\"data row16 col0\" >Fold Generator</td>\n",
       "      <td id=\"T_c328c_row16_col1\" class=\"data row16 col1\" >TimeSeriesSplit</td>\n",
       "    </tr>\n",
       "    <tr>\n",
       "      <th id=\"T_c328c_level0_row17\" class=\"row_heading level0 row17\" >17</th>\n",
       "      <td id=\"T_c328c_row17_col0\" class=\"data row17 col0\" >Fold Number</td>\n",
       "      <td id=\"T_c328c_row17_col1\" class=\"data row17 col1\" >5</td>\n",
       "    </tr>\n",
       "    <tr>\n",
       "      <th id=\"T_c328c_level0_row18\" class=\"row_heading level0 row18\" >18</th>\n",
       "      <td id=\"T_c328c_row18_col0\" class=\"data row18 col0\" >CPU Jobs</td>\n",
       "      <td id=\"T_c328c_row18_col1\" class=\"data row18 col1\" >-1</td>\n",
       "    </tr>\n",
       "    <tr>\n",
       "      <th id=\"T_c328c_level0_row19\" class=\"row_heading level0 row19\" >19</th>\n",
       "      <td id=\"T_c328c_row19_col0\" class=\"data row19 col0\" >Use GPU</td>\n",
       "      <td id=\"T_c328c_row19_col1\" class=\"data row19 col1\" >False</td>\n",
       "    </tr>\n",
       "    <tr>\n",
       "      <th id=\"T_c328c_level0_row20\" class=\"row_heading level0 row20\" >20</th>\n",
       "      <td id=\"T_c328c_row20_col0\" class=\"data row20 col0\" >Log Experiment</td>\n",
       "      <td id=\"T_c328c_row20_col1\" class=\"data row20 col1\" >False</td>\n",
       "    </tr>\n",
       "    <tr>\n",
       "      <th id=\"T_c328c_level0_row21\" class=\"row_heading level0 row21\" >21</th>\n",
       "      <td id=\"T_c328c_row21_col0\" class=\"data row21 col0\" >Experiment Name</td>\n",
       "      <td id=\"T_c328c_row21_col1\" class=\"data row21 col1\" >clf-default-name</td>\n",
       "    </tr>\n",
       "    <tr>\n",
       "      <th id=\"T_c328c_level0_row22\" class=\"row_heading level0 row22\" >22</th>\n",
       "      <td id=\"T_c328c_row22_col0\" class=\"data row22 col0\" >USI</td>\n",
       "      <td id=\"T_c328c_row22_col1\" class=\"data row22 col1\" >2db4</td>\n",
       "    </tr>\n",
       "  </tbody>\n",
       "</table>\n"
      ],
      "text/plain": [
       "<pandas.io.formats.style.Styler at 0x17d9ecc50>"
      ]
     },
     "metadata": {},
     "output_type": "display_data"
    }
   ],
   "source": [
    "# Use `timeseries` fold strategy while enforcing all required settings\n",
    "clf_setup = setup(\n",
    "    data=train_df, \n",
    "    target=target,\n",
    "    train_size=0.8,\n",
    "    session_id=42, \n",
    "    fold_strategy=\"timeseries\",  # Time-based validation\n",
    "    fold=5,\n",
    "    data_split_shuffle=False,  # Prevents PyCaret from shuffling time order\n",
    "    fold_shuffle=False,  # Ensures validation comes AFTER training\n",
    "    data_split_stratify=False  # Disables stratification (not allowed with time-series)\n",
    ")"
   ]
  },
  {
   "cell_type": "code",
   "execution_count": null,
   "metadata": {},
   "outputs": [
    {
     "data": {
      "text/html": [
       "<style type=\"text/css\">\n",
       "#T_6d064_row10_col1 {\n",
       "  background-color: lightgreen;\n",
       "}\n",
       "</style>\n",
       "<table id=\"T_6d064\">\n",
       "  <thead>\n",
       "    <tr>\n",
       "      <th class=\"blank level0\" >&nbsp;</th>\n",
       "      <th id=\"T_6d064_level0_col0\" class=\"col_heading level0 col0\" >Description</th>\n",
       "      <th id=\"T_6d064_level0_col1\" class=\"col_heading level0 col1\" >Value</th>\n",
       "    </tr>\n",
       "  </thead>\n",
       "  <tbody>\n",
       "    <tr>\n",
       "      <th id=\"T_6d064_level0_row0\" class=\"row_heading level0 row0\" >0</th>\n",
       "      <td id=\"T_6d064_row0_col0\" class=\"data row0 col0\" >Session id</td>\n",
       "      <td id=\"T_6d064_row0_col1\" class=\"data row0 col1\" >42</td>\n",
       "    </tr>\n",
       "    <tr>\n",
       "      <th id=\"T_6d064_level0_row1\" class=\"row_heading level0 row1\" >1</th>\n",
       "      <td id=\"T_6d064_row1_col0\" class=\"data row1 col0\" >Target</td>\n",
       "      <td id=\"T_6d064_row1_col1\" class=\"data row1 col1\" >LEAK_FLOW_FLAG</td>\n",
       "    </tr>\n",
       "    <tr>\n",
       "      <th id=\"T_6d064_level0_row2\" class=\"row_heading level0 row2\" >2</th>\n",
       "      <td id=\"T_6d064_row2_col0\" class=\"data row2 col0\" >Target type</td>\n",
       "      <td id=\"T_6d064_row2_col1\" class=\"data row2 col1\" >Binary</td>\n",
       "    </tr>\n",
       "    <tr>\n",
       "      <th id=\"T_6d064_level0_row3\" class=\"row_heading level0 row3\" >3</th>\n",
       "      <td id=\"T_6d064_row3_col0\" class=\"data row3 col0\" >Original data shape</td>\n",
       "      <td id=\"T_6d064_row3_col1\" class=\"data row3 col1\" >(74041, 146)</td>\n",
       "    </tr>\n",
       "    <tr>\n",
       "      <th id=\"T_6d064_level0_row4\" class=\"row_heading level0 row4\" >4</th>\n",
       "      <td id=\"T_6d064_row4_col0\" class=\"data row4 col0\" >Transformed data shape</td>\n",
       "      <td id=\"T_6d064_row4_col1\" class=\"data row4 col1\" >(74041, 156)</td>\n",
       "    </tr>\n",
       "    <tr>\n",
       "      <th id=\"T_6d064_level0_row5\" class=\"row_heading level0 row5\" >5</th>\n",
       "      <td id=\"T_6d064_row5_col0\" class=\"data row5 col0\" >Transformed train set shape</td>\n",
       "      <td id=\"T_6d064_row5_col1\" class=\"data row5 col1\" >(51828, 156)</td>\n",
       "    </tr>\n",
       "    <tr>\n",
       "      <th id=\"T_6d064_level0_row6\" class=\"row_heading level0 row6\" >6</th>\n",
       "      <td id=\"T_6d064_row6_col0\" class=\"data row6 col0\" >Transformed test set shape</td>\n",
       "      <td id=\"T_6d064_row6_col1\" class=\"data row6 col1\" >(22213, 156)</td>\n",
       "    </tr>\n",
       "    <tr>\n",
       "      <th id=\"T_6d064_level0_row7\" class=\"row_heading level0 row7\" >7</th>\n",
       "      <td id=\"T_6d064_row7_col0\" class=\"data row7 col0\" >Numeric features</td>\n",
       "      <td id=\"T_6d064_row7_col1\" class=\"data row7 col1\" >135</td>\n",
       "    </tr>\n",
       "    <tr>\n",
       "      <th id=\"T_6d064_level0_row8\" class=\"row_heading level0 row8\" >8</th>\n",
       "      <td id=\"T_6d064_row8_col0\" class=\"data row8 col0\" >Date features</td>\n",
       "      <td id=\"T_6d064_row8_col1\" class=\"data row8 col1\" >5</td>\n",
       "    </tr>\n",
       "    <tr>\n",
       "      <th id=\"T_6d064_level0_row9\" class=\"row_heading level0 row9\" >9</th>\n",
       "      <td id=\"T_6d064_row9_col0\" class=\"data row9 col0\" >Categorical features</td>\n",
       "      <td id=\"T_6d064_row9_col1\" class=\"data row9 col1\" >5</td>\n",
       "    </tr>\n",
       "    <tr>\n",
       "      <th id=\"T_6d064_level0_row10\" class=\"row_heading level0 row10\" >10</th>\n",
       "      <td id=\"T_6d064_row10_col0\" class=\"data row10 col0\" >Preprocess</td>\n",
       "      <td id=\"T_6d064_row10_col1\" class=\"data row10 col1\" >True</td>\n",
       "    </tr>\n",
       "    <tr>\n",
       "      <th id=\"T_6d064_level0_row11\" class=\"row_heading level0 row11\" >11</th>\n",
       "      <td id=\"T_6d064_row11_col0\" class=\"data row11 col0\" >Imputation type</td>\n",
       "      <td id=\"T_6d064_row11_col1\" class=\"data row11 col1\" >simple</td>\n",
       "    </tr>\n",
       "    <tr>\n",
       "      <th id=\"T_6d064_level0_row12\" class=\"row_heading level0 row12\" >12</th>\n",
       "      <td id=\"T_6d064_row12_col0\" class=\"data row12 col0\" >Numeric imputation</td>\n",
       "      <td id=\"T_6d064_row12_col1\" class=\"data row12 col1\" >mean</td>\n",
       "    </tr>\n",
       "    <tr>\n",
       "      <th id=\"T_6d064_level0_row13\" class=\"row_heading level0 row13\" >13</th>\n",
       "      <td id=\"T_6d064_row13_col0\" class=\"data row13 col0\" >Categorical imputation</td>\n",
       "      <td id=\"T_6d064_row13_col1\" class=\"data row13 col1\" >mode</td>\n",
       "    </tr>\n",
       "    <tr>\n",
       "      <th id=\"T_6d064_level0_row14\" class=\"row_heading level0 row14\" >14</th>\n",
       "      <td id=\"T_6d064_row14_col0\" class=\"data row14 col0\" >Maximum one-hot encoding</td>\n",
       "      <td id=\"T_6d064_row14_col1\" class=\"data row14 col1\" >25</td>\n",
       "    </tr>\n",
       "    <tr>\n",
       "      <th id=\"T_6d064_level0_row15\" class=\"row_heading level0 row15\" >15</th>\n",
       "      <td id=\"T_6d064_row15_col0\" class=\"data row15 col0\" >Encoding method</td>\n",
       "      <td id=\"T_6d064_row15_col1\" class=\"data row15 col1\" >None</td>\n",
       "    </tr>\n",
       "    <tr>\n",
       "      <th id=\"T_6d064_level0_row16\" class=\"row_heading level0 row16\" >16</th>\n",
       "      <td id=\"T_6d064_row16_col0\" class=\"data row16 col0\" >Fold Generator</td>\n",
       "      <td id=\"T_6d064_row16_col1\" class=\"data row16 col1\" >TimeSeriesSplit</td>\n",
       "    </tr>\n",
       "    <tr>\n",
       "      <th id=\"T_6d064_level0_row17\" class=\"row_heading level0 row17\" >17</th>\n",
       "      <td id=\"T_6d064_row17_col0\" class=\"data row17 col0\" >Fold Number</td>\n",
       "      <td id=\"T_6d064_row17_col1\" class=\"data row17 col1\" >5</td>\n",
       "    </tr>\n",
       "    <tr>\n",
       "      <th id=\"T_6d064_level0_row18\" class=\"row_heading level0 row18\" >18</th>\n",
       "      <td id=\"T_6d064_row18_col0\" class=\"data row18 col0\" >CPU Jobs</td>\n",
       "      <td id=\"T_6d064_row18_col1\" class=\"data row18 col1\" >-1</td>\n",
       "    </tr>\n",
       "    <tr>\n",
       "      <th id=\"T_6d064_level0_row19\" class=\"row_heading level0 row19\" >19</th>\n",
       "      <td id=\"T_6d064_row19_col0\" class=\"data row19 col0\" >Use GPU</td>\n",
       "      <td id=\"T_6d064_row19_col1\" class=\"data row19 col1\" >False</td>\n",
       "    </tr>\n",
       "    <tr>\n",
       "      <th id=\"T_6d064_level0_row20\" class=\"row_heading level0 row20\" >20</th>\n",
       "      <td id=\"T_6d064_row20_col0\" class=\"data row20 col0\" >Log Experiment</td>\n",
       "      <td id=\"T_6d064_row20_col1\" class=\"data row20 col1\" >False</td>\n",
       "    </tr>\n",
       "    <tr>\n",
       "      <th id=\"T_6d064_level0_row21\" class=\"row_heading level0 row21\" >21</th>\n",
       "      <td id=\"T_6d064_row21_col0\" class=\"data row21 col0\" >Experiment Name</td>\n",
       "      <td id=\"T_6d064_row21_col1\" class=\"data row21 col1\" >clf-default-name</td>\n",
       "    </tr>\n",
       "    <tr>\n",
       "      <th id=\"T_6d064_level0_row22\" class=\"row_heading level0 row22\" >22</th>\n",
       "      <td id=\"T_6d064_row22_col0\" class=\"data row22 col0\" >USI</td>\n",
       "      <td id=\"T_6d064_row22_col1\" class=\"data row22 col1\" >5718</td>\n",
       "    </tr>\n",
       "  </tbody>\n",
       "</table>\n"
      ],
      "text/plain": [
       "<pandas.io.formats.style.Styler at 0x280586090>"
      ]
     },
     "metadata": {},
     "output_type": "display_data"
    }
   ],
   "source": [
    "# Use `timeseries` fold strategy WITHOUT re-splitting\n",
    "clf_setup = setup(\n",
    "    data=train_df, \n",
    "    target=target,\n",
    "    session_id=42, \n",
    "    fold_strategy=\"timeseries\",  # Time-based validation\n",
    "    fold=5,\n",
    "    data_split_shuffle=False,  # Prevents PyCaret from shuffling time order\n",
    "    fold_shuffle=False,  # Ensures validation comes AFTER training\n",
    "    data_split_stratify=False  # Disables stratification (not allowed with time-series)\n",
    ")"
   ]
  },
  {
   "cell_type": "code",
   "execution_count": 27,
   "metadata": {},
   "outputs": [
    {
     "data": {
      "text/html": [],
      "text/plain": [
       "<IPython.core.display.HTML object>"
      ]
     },
     "metadata": {},
     "output_type": "display_data"
    },
    {
     "data": {
      "text/html": [
       "<style type=\"text/css\">\n",
       "#T_52f29 th {\n",
       "  text-align: left;\n",
       "}\n",
       "#T_52f29_row0_col0, #T_52f29_row0_col1, #T_52f29_row0_col2, #T_52f29_row0_col4, #T_52f29_row1_col0, #T_52f29_row1_col1, #T_52f29_row1_col3, #T_52f29_row1_col4, #T_52f29_row1_col5, #T_52f29_row1_col6, #T_52f29_row1_col7, #T_52f29_row2_col0, #T_52f29_row2_col1, #T_52f29_row2_col2, #T_52f29_row2_col3, #T_52f29_row2_col4, #T_52f29_row2_col5, #T_52f29_row2_col6, #T_52f29_row2_col7, #T_52f29_row3_col0, #T_52f29_row3_col2, #T_52f29_row3_col3, #T_52f29_row3_col5, #T_52f29_row3_col6, #T_52f29_row3_col7, #T_52f29_row4_col0, #T_52f29_row4_col1, #T_52f29_row4_col2, #T_52f29_row4_col3, #T_52f29_row4_col4, #T_52f29_row4_col5, #T_52f29_row4_col6, #T_52f29_row4_col7, #T_52f29_row5_col0, #T_52f29_row5_col1, #T_52f29_row5_col2, #T_52f29_row5_col3, #T_52f29_row5_col4, #T_52f29_row5_col5, #T_52f29_row5_col6, #T_52f29_row5_col7, #T_52f29_row6_col0, #T_52f29_row6_col1, #T_52f29_row6_col2, #T_52f29_row6_col3, #T_52f29_row6_col4, #T_52f29_row6_col5, #T_52f29_row6_col6, #T_52f29_row6_col7, #T_52f29_row7_col0, #T_52f29_row7_col1, #T_52f29_row7_col2, #T_52f29_row7_col3, #T_52f29_row7_col4, #T_52f29_row7_col5, #T_52f29_row7_col6, #T_52f29_row7_col7, #T_52f29_row8_col0, #T_52f29_row8_col1, #T_52f29_row8_col2, #T_52f29_row8_col3, #T_52f29_row8_col4, #T_52f29_row8_col5, #T_52f29_row8_col6, #T_52f29_row8_col7, #T_52f29_row9_col0, #T_52f29_row9_col1, #T_52f29_row9_col2, #T_52f29_row9_col3, #T_52f29_row9_col4, #T_52f29_row9_col5, #T_52f29_row9_col6, #T_52f29_row9_col7, #T_52f29_row10_col0, #T_52f29_row10_col1, #T_52f29_row10_col2, #T_52f29_row10_col3, #T_52f29_row10_col4, #T_52f29_row10_col5, #T_52f29_row10_col6, #T_52f29_row10_col7, #T_52f29_row11_col0, #T_52f29_row11_col1, #T_52f29_row11_col2, #T_52f29_row11_col3, #T_52f29_row11_col4, #T_52f29_row11_col5, #T_52f29_row11_col6, #T_52f29_row11_col7, #T_52f29_row12_col0, #T_52f29_row12_col1, #T_52f29_row12_col2, #T_52f29_row12_col3, #T_52f29_row12_col4, #T_52f29_row12_col5, #T_52f29_row12_col6, #T_52f29_row12_col7, #T_52f29_row13_col0, #T_52f29_row13_col1, #T_52f29_row13_col2, #T_52f29_row13_col3, #T_52f29_row13_col4, #T_52f29_row13_col5, #T_52f29_row13_col6, #T_52f29_row13_col7 {\n",
       "  text-align: left;\n",
       "}\n",
       "#T_52f29_row0_col3, #T_52f29_row0_col5, #T_52f29_row0_col6, #T_52f29_row0_col7, #T_52f29_row1_col2, #T_52f29_row3_col1, #T_52f29_row3_col4 {\n",
       "  text-align: left;\n",
       "  background-color: yellow;\n",
       "}\n",
       "#T_52f29_row0_col8, #T_52f29_row1_col8, #T_52f29_row2_col8, #T_52f29_row3_col8, #T_52f29_row4_col8, #T_52f29_row5_col8, #T_52f29_row6_col8, #T_52f29_row7_col8, #T_52f29_row8_col8, #T_52f29_row9_col8, #T_52f29_row10_col8, #T_52f29_row11_col8, #T_52f29_row12_col8 {\n",
       "  text-align: left;\n",
       "  background-color: lightgrey;\n",
       "}\n",
       "#T_52f29_row13_col8 {\n",
       "  text-align: left;\n",
       "  background-color: yellow;\n",
       "  background-color: lightgrey;\n",
       "}\n",
       "</style>\n",
       "<table id=\"T_52f29\">\n",
       "  <thead>\n",
       "    <tr>\n",
       "      <th class=\"blank level0\" >&nbsp;</th>\n",
       "      <th id=\"T_52f29_level0_col0\" class=\"col_heading level0 col0\" >Model</th>\n",
       "      <th id=\"T_52f29_level0_col1\" class=\"col_heading level0 col1\" >Accuracy</th>\n",
       "      <th id=\"T_52f29_level0_col2\" class=\"col_heading level0 col2\" >AUC</th>\n",
       "      <th id=\"T_52f29_level0_col3\" class=\"col_heading level0 col3\" >Recall</th>\n",
       "      <th id=\"T_52f29_level0_col4\" class=\"col_heading level0 col4\" >Prec.</th>\n",
       "      <th id=\"T_52f29_level0_col5\" class=\"col_heading level0 col5\" >F1</th>\n",
       "      <th id=\"T_52f29_level0_col6\" class=\"col_heading level0 col6\" >Kappa</th>\n",
       "      <th id=\"T_52f29_level0_col7\" class=\"col_heading level0 col7\" >MCC</th>\n",
       "      <th id=\"T_52f29_level0_col8\" class=\"col_heading level0 col8\" >TT (Sec)</th>\n",
       "    </tr>\n",
       "  </thead>\n",
       "  <tbody>\n",
       "    <tr>\n",
       "      <th id=\"T_52f29_level0_row0\" class=\"row_heading level0 row0\" >ada</th>\n",
       "      <td id=\"T_52f29_row0_col0\" class=\"data row0 col0\" >Ada Boost Classifier</td>\n",
       "      <td id=\"T_52f29_row0_col1\" class=\"data row0 col1\" >0.7557</td>\n",
       "      <td id=\"T_52f29_row0_col2\" class=\"data row0 col2\" >0.8166</td>\n",
       "      <td id=\"T_52f29_row0_col3\" class=\"data row0 col3\" >0.6451</td>\n",
       "      <td id=\"T_52f29_row0_col4\" class=\"data row0 col4\" >0.5081</td>\n",
       "      <td id=\"T_52f29_row0_col5\" class=\"data row0 col5\" >0.5623</td>\n",
       "      <td id=\"T_52f29_row0_col6\" class=\"data row0 col6\" >0.3725</td>\n",
       "      <td id=\"T_52f29_row0_col7\" class=\"data row0 col7\" >0.3818</td>\n",
       "      <td id=\"T_52f29_row0_col8\" class=\"data row0 col8\" >4.5520</td>\n",
       "    </tr>\n",
       "    <tr>\n",
       "      <th id=\"T_52f29_level0_row1\" class=\"row_heading level0 row1\" >gbc</th>\n",
       "      <td id=\"T_52f29_row1_col0\" class=\"data row1 col0\" >Gradient Boosting Classifier</td>\n",
       "      <td id=\"T_52f29_row1_col1\" class=\"data row1 col1\" >0.7559</td>\n",
       "      <td id=\"T_52f29_row1_col2\" class=\"data row1 col2\" >0.8171</td>\n",
       "      <td id=\"T_52f29_row1_col3\" class=\"data row1 col3\" >0.6102</td>\n",
       "      <td id=\"T_52f29_row1_col4\" class=\"data row1 col4\" >0.5111</td>\n",
       "      <td id=\"T_52f29_row1_col5\" class=\"data row1 col5\" >0.5479</td>\n",
       "      <td id=\"T_52f29_row1_col6\" class=\"data row1 col6\" >0.3601</td>\n",
       "      <td id=\"T_52f29_row1_col7\" class=\"data row1 col7\" >0.3690</td>\n",
       "      <td id=\"T_52f29_row1_col8\" class=\"data row1 col8\" >22.5840</td>\n",
       "    </tr>\n",
       "    <tr>\n",
       "      <th id=\"T_52f29_level0_row2\" class=\"row_heading level0 row2\" >lightgbm</th>\n",
       "      <td id=\"T_52f29_row2_col0\" class=\"data row2 col0\" >Light Gradient Boosting Machine</td>\n",
       "      <td id=\"T_52f29_row2_col1\" class=\"data row2 col1\" >0.7558</td>\n",
       "      <td id=\"T_52f29_row2_col2\" class=\"data row2 col2\" >0.0000</td>\n",
       "      <td id=\"T_52f29_row2_col3\" class=\"data row2 col3\" >0.5376</td>\n",
       "      <td id=\"T_52f29_row2_col4\" class=\"data row2 col4\" >0.5127</td>\n",
       "      <td id=\"T_52f29_row2_col5\" class=\"data row2 col5\" >0.5233</td>\n",
       "      <td id=\"T_52f29_row2_col6\" class=\"data row2 col6\" >0.3379</td>\n",
       "      <td id=\"T_52f29_row2_col7\" class=\"data row2 col7\" >0.3389</td>\n",
       "      <td id=\"T_52f29_row2_col8\" class=\"data row2 col8\" >0.7020</td>\n",
       "    </tr>\n",
       "    <tr>\n",
       "      <th id=\"T_52f29_level0_row3\" class=\"row_heading level0 row3\" >dt</th>\n",
       "      <td id=\"T_52f29_row3_col0\" class=\"data row3 col0\" >Decision Tree Classifier</td>\n",
       "      <td id=\"T_52f29_row3_col1\" class=\"data row3 col1\" >0.7569</td>\n",
       "      <td id=\"T_52f29_row3_col2\" class=\"data row3 col2\" >0.0000</td>\n",
       "      <td id=\"T_52f29_row3_col3\" class=\"data row3 col3\" >0.5040</td>\n",
       "      <td id=\"T_52f29_row3_col4\" class=\"data row3 col4\" >0.5167</td>\n",
       "      <td id=\"T_52f29_row3_col5\" class=\"data row3 col5\" >0.5099</td>\n",
       "      <td id=\"T_52f29_row3_col6\" class=\"data row3 col6\" >0.3269</td>\n",
       "      <td id=\"T_52f29_row3_col7\" class=\"data row3 col7\" >0.3272</td>\n",
       "      <td id=\"T_52f29_row3_col8\" class=\"data row3 col8\" >1.2740</td>\n",
       "    </tr>\n",
       "    <tr>\n",
       "      <th id=\"T_52f29_level0_row4\" class=\"row_heading level0 row4\" >rf</th>\n",
       "      <td id=\"T_52f29_row4_col0\" class=\"data row4 col0\" >Random Forest Classifier</td>\n",
       "      <td id=\"T_52f29_row4_col1\" class=\"data row4 col1\" >0.7531</td>\n",
       "      <td id=\"T_52f29_row4_col2\" class=\"data row4 col2\" >0.0000</td>\n",
       "      <td id=\"T_52f29_row4_col3\" class=\"data row4 col3\" >0.3497</td>\n",
       "      <td id=\"T_52f29_row4_col4\" class=\"data row4 col4\" >0.5115</td>\n",
       "      <td id=\"T_52f29_row4_col5\" class=\"data row4 col5\" >0.4143</td>\n",
       "      <td id=\"T_52f29_row4_col6\" class=\"data row4 col6\" >0.2554</td>\n",
       "      <td id=\"T_52f29_row4_col7\" class=\"data row4 col7\" >0.2619</td>\n",
       "      <td id=\"T_52f29_row4_col8\" class=\"data row4 col8\" >3.2500</td>\n",
       "    </tr>\n",
       "    <tr>\n",
       "      <th id=\"T_52f29_level0_row5\" class=\"row_heading level0 row5\" >svm</th>\n",
       "      <td id=\"T_52f29_row5_col0\" class=\"data row5 col0\" >SVM - Linear Kernel</td>\n",
       "      <td id=\"T_52f29_row5_col1\" class=\"data row5 col1\" >0.7169</td>\n",
       "      <td id=\"T_52f29_row5_col2\" class=\"data row5 col2\" >0.7742</td>\n",
       "      <td id=\"T_52f29_row5_col3\" class=\"data row5 col3\" >0.4498</td>\n",
       "      <td id=\"T_52f29_row5_col4\" class=\"data row5 col4\" >0.4859</td>\n",
       "      <td id=\"T_52f29_row5_col5\" class=\"data row5 col5\" >0.3733</td>\n",
       "      <td id=\"T_52f29_row5_col6\" class=\"data row5 col6\" >0.1939</td>\n",
       "      <td id=\"T_52f29_row5_col7\" class=\"data row5 col7\" >0.2367</td>\n",
       "      <td id=\"T_52f29_row5_col8\" class=\"data row5 col8\" >1.5320</td>\n",
       "    </tr>\n",
       "    <tr>\n",
       "      <th id=\"T_52f29_level0_row6\" class=\"row_heading level0 row6\" >qda</th>\n",
       "      <td id=\"T_52f29_row6_col0\" class=\"data row6 col0\" >Quadratic Discriminant Analysis</td>\n",
       "      <td id=\"T_52f29_row6_col1\" class=\"data row6 col1\" >0.4805</td>\n",
       "      <td id=\"T_52f29_row6_col2\" class=\"data row6 col2\" >0.4920</td>\n",
       "      <td id=\"T_52f29_row6_col3\" class=\"data row6 col3\" >0.5309</td>\n",
       "      <td id=\"T_52f29_row6_col4\" class=\"data row6 col4\" >0.2976</td>\n",
       "      <td id=\"T_52f29_row6_col5\" class=\"data row6 col5\" >0.2924</td>\n",
       "      <td id=\"T_52f29_row6_col6\" class=\"data row6 col6\" >0.0321</td>\n",
       "      <td id=\"T_52f29_row6_col7\" class=\"data row6 col7\" >0.0420</td>\n",
       "      <td id=\"T_52f29_row6_col8\" class=\"data row6 col8\" >0.3180</td>\n",
       "    </tr>\n",
       "    <tr>\n",
       "      <th id=\"T_52f29_level0_row7\" class=\"row_heading level0 row7\" >knn</th>\n",
       "      <td id=\"T_52f29_row7_col0\" class=\"data row7 col0\" >K Neighbors Classifier</td>\n",
       "      <td id=\"T_52f29_row7_col1\" class=\"data row7 col1\" >0.5798</td>\n",
       "      <td id=\"T_52f29_row7_col2\" class=\"data row7 col2\" >0.0000</td>\n",
       "      <td id=\"T_52f29_row7_col3\" class=\"data row7 col3\" >0.3688</td>\n",
       "      <td id=\"T_52f29_row7_col4\" class=\"data row7 col4\" >0.2719</td>\n",
       "      <td id=\"T_52f29_row7_col5\" class=\"data row7 col5\" >0.2891</td>\n",
       "      <td id=\"T_52f29_row7_col6\" class=\"data row7 col6\" >0.0296</td>\n",
       "      <td id=\"T_52f29_row7_col7\" class=\"data row7 col7\" >0.0257</td>\n",
       "      <td id=\"T_52f29_row7_col8\" class=\"data row7 col8\" >1.0020</td>\n",
       "    </tr>\n",
       "    <tr>\n",
       "      <th id=\"T_52f29_level0_row8\" class=\"row_heading level0 row8\" >lr</th>\n",
       "      <td id=\"T_52f29_row8_col0\" class=\"data row8 col0\" >Logistic Regression</td>\n",
       "      <td id=\"T_52f29_row8_col1\" class=\"data row8 col1\" >0.7514</td>\n",
       "      <td id=\"T_52f29_row8_col2\" class=\"data row8 col2\" >0.8051</td>\n",
       "      <td id=\"T_52f29_row8_col3\" class=\"data row8 col3\" >0.1971</td>\n",
       "      <td id=\"T_52f29_row8_col4\" class=\"data row8 col4\" >0.5066</td>\n",
       "      <td id=\"T_52f29_row8_col5\" class=\"data row8 col5\" >0.2779</td>\n",
       "      <td id=\"T_52f29_row8_col6\" class=\"data row8 col6\" >0.1640</td>\n",
       "      <td id=\"T_52f29_row8_col7\" class=\"data row8 col7\" >0.1875</td>\n",
       "      <td id=\"T_52f29_row8_col8\" class=\"data row8 col8\" >2.2020</td>\n",
       "    </tr>\n",
       "    <tr>\n",
       "      <th id=\"T_52f29_level0_row9\" class=\"row_heading level0 row9\" >nb</th>\n",
       "      <td id=\"T_52f29_row9_col0\" class=\"data row9 col0\" >Naive Bayes</td>\n",
       "      <td id=\"T_52f29_row9_col1\" class=\"data row9 col1\" >0.5699</td>\n",
       "      <td id=\"T_52f29_row9_col2\" class=\"data row9 col2\" >0.0000</td>\n",
       "      <td id=\"T_52f29_row9_col3\" class=\"data row9 col3\" >0.3419</td>\n",
       "      <td id=\"T_52f29_row9_col4\" class=\"data row9 col4\" >0.2967</td>\n",
       "      <td id=\"T_52f29_row9_col5\" class=\"data row9 col5\" >0.2540</td>\n",
       "      <td id=\"T_52f29_row9_col6\" class=\"data row9 col6\" >0.0610</td>\n",
       "      <td id=\"T_52f29_row9_col7\" class=\"data row9 col7\" >0.0455</td>\n",
       "      <td id=\"T_52f29_row9_col8\" class=\"data row9 col8\" >0.1800</td>\n",
       "    </tr>\n",
       "    <tr>\n",
       "      <th id=\"T_52f29_level0_row10\" class=\"row_heading level0 row10\" >lda</th>\n",
       "      <td id=\"T_52f29_row10_col0\" class=\"data row10 col0\" >Linear Discriminant Analysis</td>\n",
       "      <td id=\"T_52f29_row10_col1\" class=\"data row10 col1\" >0.7518</td>\n",
       "      <td id=\"T_52f29_row10_col2\" class=\"data row10 col2\" >0.7568</td>\n",
       "      <td id=\"T_52f29_row10_col3\" class=\"data row10 col3\" >0.1728</td>\n",
       "      <td id=\"T_52f29_row10_col4\" class=\"data row10 col4\" >0.4092</td>\n",
       "      <td id=\"T_52f29_row10_col5\" class=\"data row10 col5\" >0.2247</td>\n",
       "      <td id=\"T_52f29_row10_col6\" class=\"data row10 col6\" >0.1440</td>\n",
       "      <td id=\"T_52f29_row10_col7\" class=\"data row10 col7\" >0.1647</td>\n",
       "      <td id=\"T_52f29_row10_col8\" class=\"data row10 col8\" >0.3740</td>\n",
       "    </tr>\n",
       "    <tr>\n",
       "      <th id=\"T_52f29_level0_row11\" class=\"row_heading level0 row11\" >ridge</th>\n",
       "      <td id=\"T_52f29_row11_col0\" class=\"data row11 col0\" >Ridge Classifier</td>\n",
       "      <td id=\"T_52f29_row11_col1\" class=\"data row11 col1\" >0.7513</td>\n",
       "      <td id=\"T_52f29_row11_col2\" class=\"data row11 col2\" >0.7568</td>\n",
       "      <td id=\"T_52f29_row11_col3\" class=\"data row11 col3\" >0.1632</td>\n",
       "      <td id=\"T_52f29_row11_col4\" class=\"data row11 col4\" >0.4012</td>\n",
       "      <td id=\"T_52f29_row11_col5\" class=\"data row11 col5\" >0.2092</td>\n",
       "      <td id=\"T_52f29_row11_col6\" class=\"data row11 col6\" >0.1338</td>\n",
       "      <td id=\"T_52f29_row11_col7\" class=\"data row11 col7\" >0.1503</td>\n",
       "      <td id=\"T_52f29_row11_col8\" class=\"data row11 col8\" >0.1780</td>\n",
       "    </tr>\n",
       "    <tr>\n",
       "      <th id=\"T_52f29_level0_row12\" class=\"row_heading level0 row12\" >et</th>\n",
       "      <td id=\"T_52f29_row12_col0\" class=\"data row12 col0\" >Extra Trees Classifier</td>\n",
       "      <td id=\"T_52f29_row12_col1\" class=\"data row12 col1\" >0.7505</td>\n",
       "      <td id=\"T_52f29_row12_col2\" class=\"data row12 col2\" >0.0000</td>\n",
       "      <td id=\"T_52f29_row12_col3\" class=\"data row12 col3\" >0.0560</td>\n",
       "      <td id=\"T_52f29_row12_col4\" class=\"data row12 col4\" >0.4993</td>\n",
       "      <td id=\"T_52f29_row12_col5\" class=\"data row12 col5\" >0.0963</td>\n",
       "      <td id=\"T_52f29_row12_col6\" class=\"data row12 col6\" >0.0460</td>\n",
       "      <td id=\"T_52f29_row12_col7\" class=\"data row12 col7\" >0.0848</td>\n",
       "      <td id=\"T_52f29_row12_col8\" class=\"data row12 col8\" >0.7020</td>\n",
       "    </tr>\n",
       "    <tr>\n",
       "      <th id=\"T_52f29_level0_row13\" class=\"row_heading level0 row13\" >dummy</th>\n",
       "      <td id=\"T_52f29_row13_col0\" class=\"data row13 col0\" >Dummy Classifier</td>\n",
       "      <td id=\"T_52f29_row13_col1\" class=\"data row13 col1\" >0.7510</td>\n",
       "      <td id=\"T_52f29_row13_col2\" class=\"data row13 col2\" >0.0000</td>\n",
       "      <td id=\"T_52f29_row13_col3\" class=\"data row13 col3\" >0.0000</td>\n",
       "      <td id=\"T_52f29_row13_col4\" class=\"data row13 col4\" >0.0000</td>\n",
       "      <td id=\"T_52f29_row13_col5\" class=\"data row13 col5\" >0.0000</td>\n",
       "      <td id=\"T_52f29_row13_col6\" class=\"data row13 col6\" >0.0000</td>\n",
       "      <td id=\"T_52f29_row13_col7\" class=\"data row13 col7\" >0.0000</td>\n",
       "      <td id=\"T_52f29_row13_col8\" class=\"data row13 col8\" >0.1480</td>\n",
       "    </tr>\n",
       "  </tbody>\n",
       "</table>\n"
      ],
      "text/plain": [
       "<pandas.io.formats.style.Styler at 0x17de0bdd0>"
      ]
     },
     "metadata": {},
     "output_type": "display_data"
    },
    {
     "data": {
      "text/html": [],
      "text/plain": [
       "<IPython.core.display.HTML object>"
      ]
     },
     "metadata": {},
     "output_type": "display_data"
    }
   ],
   "source": [
    "best_model = compare_models(sort='f1')"
   ]
  },
  {
   "cell_type": "code",
   "execution_count": null,
   "metadata": {},
   "outputs": [
    {
     "data": {
      "text/html": [],
      "text/plain": [
       "<IPython.core.display.HTML object>"
      ]
     },
     "metadata": {},
     "output_type": "display_data"
    }
   ],
   "source": [
    "# Prepare `test_df` (drop target column)\n",
    "X_test = test_df.drop(columns=[target])\n",
    "y_test = test_df[target]\n",
    "\n",
    "# Make Predictions on `test_df` (Unseen Data)\n",
    "y_pred = predict_model(best_model, data=X_test)"
   ]
  },
  {
   "cell_type": "code",
   "execution_count": null,
   "metadata": {},
   "outputs": [
    {
     "name": "stdout",
     "output_type": "stream",
     "text": [
      "Final Test Set Results:\n",
      "Accuracy:  0.7949\n",
      "Precision: 0.4952\n",
      "Recall:    0.3837\n",
      "F1-Score:  0.4324\n",
      "ROC-AUC:   0.1287\n"
     ]
    }
   ],
   "source": [
    "from sklearn.metrics import accuracy_score, precision_score, recall_score, f1_score, roc_auc_score\n",
    "\n",
    "# Extract Predictions\n",
    "y_pred_labels = y_pred[\"prediction_label\"]  # Predicted classes (0 or 1)\n",
    "y_pred_scores = y_pred[\"prediction_score\"]  # Predicted probability for class 1\n",
    "\n",
    "# Compute Final Test Metrics\n",
    "accuracy = accuracy_score(y_test, y_pred_labels)\n",
    "precision = precision_score(y_test, y_pred_labels)\n",
    "recall = recall_score(y_test, y_pred_labels)\n",
    "f1 = f1_score(y_test, y_pred_labels)\n",
    "roc_auc = roc_auc_score(y_test, y_pred_scores)  # Uses probability for AUC-ROC\n",
    "\n",
    "# Print Final Test Results\n",
    "print(f\"Final Test Set Results:\")\n",
    "print(f\"Accuracy:  {accuracy:.4f}\")\n",
    "print(f\"Precision: {precision:.4f}\")\n",
    "print(f\"Recall:    {recall:.4f}\")\n",
    "print(f\"F1-Score:  {f1:.4f}\")\n",
    "print(f\"ROC-AUC:   {roc_auc:.4f}\")\n"
   ]
  },
  {
   "cell_type": "code",
   "execution_count": null,
   "metadata": {},
   "outputs": [],
   "source": []
  }
 ],
 "metadata": {
  "kernelspec": {
   "display_name": "capstone",
   "language": "python",
   "name": "python3"
  },
  "language_info": {
   "codemirror_mode": {
    "name": "ipython",
    "version": 3
   },
   "file_extension": ".py",
   "mimetype": "text/x-python",
   "name": "python",
   "nbconvert_exporter": "python",
   "pygments_lexer": "ipython3",
   "version": "3.11.8"
  }
 },
 "nbformat": 4,
 "nbformat_minor": 2
}
