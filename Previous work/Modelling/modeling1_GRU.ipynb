{
 "cells": [
  {
   "cell_type": "markdown",
   "metadata": {},
   "source": [
    "# Imports"
   ]
  },
  {
   "cell_type": "code",
   "execution_count": 1,
   "metadata": {},
   "outputs": [
    {
     "name": "stderr",
     "output_type": "stream",
     "text": [
      "/var/folders/7z/04vv5sm111vfjsrfpsl2fw6c0000gn/T/ipykernel_43682/3771736685.py:10: DeprecationWarning: `import kerastuner` is deprecated, please use `import keras_tuner`.\n",
      "  from kerastuner.tuners import RandomSearch\n"
     ]
    }
   ],
   "source": [
    "import numpy as np\n",
    "import pandas as pd\n",
    "import matplotlib.pyplot as plt\n",
    "import tensorflow as tf\n",
    "from tensorflow import keras\n",
    "from tensorflow.keras.models import Sequential\n",
    "from tensorflow.keras.layers import GRU, Dense, Dropout\n",
    "from tensorflow.keras.optimizers import Adam\n",
    "from sklearn.preprocessing import MinMaxScaler\n",
    "from kerastuner.tuners import RandomSearch"
   ]
  },
  {
   "cell_type": "markdown",
   "metadata": {},
   "source": [
    "# The dataset"
   ]
  },
  {
   "cell_type": "code",
   "execution_count": 33,
   "metadata": {},
   "outputs": [],
   "source": [
    "df = pd.read_csv(\"combined_simulated.csv\")"
   ]
  },
  {
   "cell_type": "code",
   "execution_count": 34,
   "metadata": {},
   "outputs": [],
   "source": [
    "# Convert 'UTC_TIME' column to datetime format (if exists) and set as index\n",
    "df['UTC_TIME'] = pd.to_datetime(df['UTC_TIME'])\n",
    "df.set_index('UTC_TIME', inplace=True)"
   ]
  },
  {
   "cell_type": "code",
   "execution_count": 35,
   "metadata": {},
   "outputs": [
    {
     "name": "stdout",
     "output_type": "stream",
     "text": [
      "<class 'pandas.core.frame.DataFrame'>\n",
      "DatetimeIndex: 376554 entries, 2015-07-21 03:51:31 to 2018-04-22 11:45:45\n",
      "Data columns (total 34 columns):\n",
      " #   Column                     Non-Null Count   Dtype  \n",
      "---  ------                     --------------   -----  \n",
      " 0   FUEL_USED_2                376554 non-null  float64\n",
      " 1   FUEL_USED_3                376554 non-null  float64\n",
      " 2   FUEL_USED_4                376554 non-null  float64\n",
      " 3   FW_GEO_ALTITUDE            376554 non-null  float64\n",
      " 4   VALUE_FOB                  376554 non-null  float64\n",
      " 5   VALUE_FUEL_QTY_CT          376554 non-null  float64\n",
      " 6   VALUE_FUEL_QTY_FT1         376554 non-null  float64\n",
      " 7   VALUE_FUEL_QTY_FT2         376554 non-null  float64\n",
      " 8   VALUE_FUEL_QTY_FT3         376554 non-null  float64\n",
      " 9   VALUE_FUEL_QTY_FT4         376554 non-null  float64\n",
      " 10  VALUE_FUEL_QTY_LXT         376554 non-null  float64\n",
      " 11  VALUE_FUEL_QTY_RXT         376554 non-null  float64\n",
      " 12  FLIGHT_PHASE_COUNT         376554 non-null  float64\n",
      " 13  FUEL_USED_1                376554 non-null  float64\n",
      " 14  Flight                     376554 non-null  float64\n",
      " 15  MSN                        376554 non-null  object \n",
      " 16  NEW_FLIGHT                 376554 non-null  bool   \n",
      " 17  FLIGHT_INSTANCE            376554 non-null  int64  \n",
      " 18  FLIGHT_ID                  376554 non-null  object \n",
      " 19  START_FOB                  376554 non-null  float64\n",
      " 20  TOTAL_FUEL_USED            376554 non-null  float64\n",
      " 21  EXPECTED_FOB               376554 non-null  float64\n",
      " 22  FOB_DIFFERENCE             376554 non-null  float64\n",
      " 23  FOB_CHANGE                 376554 non-null  float64\n",
      " 24  EXPECTED_FOB_CHANGE        376554 non-null  float64\n",
      " 25  FUEL_LEAK_RATE             376554 non-null  float64\n",
      " 26  TOTAL_FUEL_LW              376554 non-null  float64\n",
      " 27  TOTAL_FUEL_RW              376554 non-null  float64\n",
      " 28  LW_RW_DIFF                 376554 non-null  float64\n",
      " 29  FUEL_IN_TANKS              376554 non-null  float64\n",
      " 30  CALC_VALUE_FOB_DIFF        376554 non-null  float64\n",
      " 31  START_FOB_VS_FOB_FUELUSED  376554 non-null  float64\n",
      " 32  ALTITUDE_DIFF              376554 non-null  float64\n",
      " 33  LEAK_FLOW_FLAG             376554 non-null  int64  \n",
      "dtypes: bool(1), float64(29), int64(2), object(2)\n",
      "memory usage: 98.0+ MB\n"
     ]
    }
   ],
   "source": [
    "df.info()"
   ]
  },
  {
   "cell_type": "code",
   "execution_count": null,
   "metadata": {},
   "outputs": [],
   "source": [
    "# Dropping irrelvant columns\n",
    "df = df.drop(columns=['FLIGHT_PHASE_COUNT', 'Flight','MSN'])"
   ]
  },
  {
   "cell_type": "code",
   "execution_count": 28,
   "metadata": {},
   "outputs": [
    {
     "name": "stdout",
     "output_type": "stream",
     "text": [
      "<class 'pandas.core.frame.DataFrame'>\n",
      "DatetimeIndex: 376554 entries, 2015-07-21 03:51:31 to 2018-04-22 11:45:45\n",
      "Data columns (total 30 columns):\n",
      " #   Column                     Non-Null Count   Dtype  \n",
      "---  ------                     --------------   -----  \n",
      " 0   FUEL_USED_2                376554 non-null  float64\n",
      " 1   FUEL_USED_3                376554 non-null  float64\n",
      " 2   FUEL_USED_4                376554 non-null  float64\n",
      " 3   FW_GEO_ALTITUDE            376554 non-null  float64\n",
      " 4   VALUE_FOB                  376554 non-null  float64\n",
      " 5   VALUE_FUEL_QTY_CT          376554 non-null  float64\n",
      " 6   VALUE_FUEL_QTY_FT1         376554 non-null  float64\n",
      " 7   VALUE_FUEL_QTY_FT2         376554 non-null  float64\n",
      " 8   VALUE_FUEL_QTY_FT3         376554 non-null  float64\n",
      " 9   VALUE_FUEL_QTY_FT4         376554 non-null  float64\n",
      " 10  VALUE_FUEL_QTY_LXT         376554 non-null  float64\n",
      " 11  VALUE_FUEL_QTY_RXT         376554 non-null  float64\n",
      " 12  FUEL_USED_1                376554 non-null  float64\n",
      " 13  NEW_FLIGHT                 376554 non-null  bool   \n",
      " 14  FLIGHT_ID                  376554 non-null  object \n",
      " 15  START_FOB                  376554 non-null  float64\n",
      " 16  TOTAL_FUEL_USED            376554 non-null  float64\n",
      " 17  EXPECTED_FOB               376554 non-null  float64\n",
      " 18  FOB_DIFFERENCE             376554 non-null  float64\n",
      " 19  FOB_CHANGE                 376554 non-null  float64\n",
      " 20  EXPECTED_FOB_CHANGE        376554 non-null  float64\n",
      " 21  FUEL_LEAK_RATE             376554 non-null  float64\n",
      " 22  TOTAL_FUEL_LW              376554 non-null  float64\n",
      " 23  TOTAL_FUEL_RW              376554 non-null  float64\n",
      " 24  LW_RW_DIFF                 376554 non-null  float64\n",
      " 25  FUEL_IN_TANKS              376554 non-null  float64\n",
      " 26  CALC_VALUE_FOB_DIFF        376554 non-null  float64\n",
      " 27  START_FOB_VS_FOB_FUELUSED  376554 non-null  float64\n",
      " 28  ALTITUDE_DIFF              376554 non-null  float64\n",
      " 29  LEAK_FLOW_FLAG             376554 non-null  int64  \n",
      "dtypes: bool(1), float64(27), int64(1), object(1)\n",
      "memory usage: 86.5+ MB\n"
     ]
    }
   ],
   "source": [
    "df.info()"
   ]
  },
  {
   "cell_type": "code",
   "execution_count": null,
   "metadata": {},
   "outputs": [
    {
     "name": "stdout",
     "output_type": "stream",
     "text": [
      "<class 'pandas.core.frame.DataFrame'>\n",
      "DatetimeIndex: 376554 entries, 2015-07-21 03:51:31 to 2018-04-22 11:45:45\n",
      "Data columns (total 30 columns):\n",
      " #   Column                     Non-Null Count   Dtype  \n",
      "---  ------                     --------------   -----  \n",
      " 0   FUEL_USED_2                376554 non-null  float64\n",
      " 1   FUEL_USED_3                376554 non-null  float64\n",
      " 2   FUEL_USED_4                376554 non-null  float64\n",
      " 3   FW_GEO_ALTITUDE            376554 non-null  float64\n",
      " 4   VALUE_FOB                  376554 non-null  float64\n",
      " 5   VALUE_FUEL_QTY_CT          376554 non-null  float64\n",
      " 6   VALUE_FUEL_QTY_FT1         376554 non-null  float64\n",
      " 7   VALUE_FUEL_QTY_FT2         376554 non-null  float64\n",
      " 8   VALUE_FUEL_QTY_FT3         376554 non-null  float64\n",
      " 9   VALUE_FUEL_QTY_FT4         376554 non-null  float64\n",
      " 10  VALUE_FUEL_QTY_LXT         376554 non-null  float64\n",
      " 11  VALUE_FUEL_QTY_RXT         376554 non-null  float64\n",
      " 12  FUEL_USED_1                376554 non-null  float64\n",
      " 13  NEW_FLIGHT                 376554 non-null  bool   \n",
      " 14  FLIGHT_ID                  376554 non-null  object \n",
      " 15  START_FOB                  376554 non-null  float64\n",
      " 16  TOTAL_FUEL_USED            376554 non-null  float64\n",
      " 17  EXPECTED_FOB               376554 non-null  float64\n",
      " 18  FOB_DIFFERENCE             376554 non-null  float64\n",
      " 19  FOB_CHANGE                 376554 non-null  float64\n",
      " 20  EXPECTED_FOB_CHANGE        376554 non-null  float64\n",
      " 21  FUEL_LEAK_RATE             376554 non-null  float64\n",
      " 22  TOTAL_FUEL_LW              376554 non-null  float64\n",
      " 23  TOTAL_FUEL_RW              376554 non-null  float64\n",
      " 24  LW_RW_DIFF                 376554 non-null  float64\n",
      " 25  FUEL_IN_TANKS              376554 non-null  float64\n",
      " 26  CALC_VALUE_FOB_DIFF        376554 non-null  float64\n",
      " 27  START_FOB_VS_FOB_FUELUSED  376554 non-null  float64\n",
      " 28  ALTITUDE_DIFF              376554 non-null  float64\n",
      " 29  LEAK_FLOW_FLAG             376554 non-null  int64  \n",
      "dtypes: bool(1), float64(27), int64(1), object(1)\n",
      "memory usage: 86.5+ MB\n"
     ]
    }
   ],
   "source": [
    "df.info()"
   ]
  },
  {
   "cell_type": "markdown",
   "metadata": {},
   "source": [
    "# Modeling"
   ]
  },
  {
   "cell_type": "code",
   "execution_count": null,
   "metadata": {},
   "outputs": [],
   "source": [
    "features = df.columns.tolist()\n",
    "features.remove('LEAK_FLOW_FLAG') \n",
    "\n",
    "# Target variable\n",
    "target = ['LEAK_FLOW_FLAG']\n",
    "\n",
    "# Group by FLIGHT_INSTANCE to process each flight separately\n",
    "flight_groups = df.groupby('FLIGHT_INSTANCE')"
   ]
  },
  {
   "cell_type": "code",
   "execution_count": 38,
   "metadata": {},
   "outputs": [],
   "source": [
    "# Create a function to process each flight separately\n",
    "def process_flight_data(flight_df):\n",
    "    \"\"\" Prepares time-series data for a single flight instance. \"\"\"\n",
    "    X_flight = flight_df[features].values\n",
    "    y_flight = flight_df[target].values\n",
    "\n",
    "    # Normalize using MinMaxScaler (fit per flight to prevent leakage)\n",
    "    scaler_X = MinMaxScaler()\n",
    "    X_flight_scaled = scaler_X.fit_transform(X_flight)\n",
    "\n",
    "    return X_flight_scaled, y_flight"
   ]
  },
  {
   "cell_type": "code",
   "execution_count": 39,
   "metadata": {},
   "outputs": [],
   "source": [
    "# Create lists to store all processed flights\n",
    "all_X, all_y = [], []\n",
    "flight_ids = []"
   ]
  },
  {
   "cell_type": "code",
   "execution_count": 40,
   "metadata": {},
   "outputs": [],
   "source": [
    "for flight_id, flight_df in flight_groups:\n",
    "    X_flight, y_flight = process_flight_data(flight_df)\n",
    "    all_X.append(X_flight)\n",
    "    all_y.append(y_flight)\n",
    "    flight_ids.append(flight_id)"
   ]
  },
  {
   "cell_type": "code",
   "execution_count": 41,
   "metadata": {},
   "outputs": [
    {
     "data": {
      "text/plain": [
       "[0, 1, 2, 3, 4, 5, 6, 7, 9]"
      ]
     },
     "execution_count": 41,
     "metadata": {},
     "output_type": "execute_result"
    }
   ],
   "source": [
    "flight_ids"
   ]
  },
  {
   "cell_type": "code",
   "execution_count": 44,
   "metadata": {},
   "outputs": [],
   "source": [
    "train_flights, test_flights = train_test_split(\n",
    "    flight_ids, test_size=0.2, random_state=42, stratify=[df[df['FLIGHT_INSTANCE'] == f]['LEAK_FLOW_FLAG'].values[0] for f in flight_ids]\n",
    ")"
   ]
  },
  {
   "cell_type": "code",
   "execution_count": 45,
   "metadata": {},
   "outputs": [],
   "source": [
    "# Convert data into sequences for each flight\n",
    "def create_flight_sequences(X_flight, y_flight, time_steps=30):\n",
    "    \"\"\"\n",
    "    Converts data from a single flight into sequences of time steps.\n",
    "    Ensures time-dependency within each flight.\n",
    "    \"\"\"\n",
    "    Xs, ys = [], []\n",
    "    for i in range(len(X_flight) - time_steps):\n",
    "        Xs.append(X_flight[i:i+time_steps])\n",
    "        ys.append(y_flight[i+time_steps])  # Predict next step\n",
    "    return np.array(Xs), np.array(ys)"
   ]
  },
  {
   "cell_type": "code",
   "execution_count": 46,
   "metadata": {},
   "outputs": [],
   "source": [
    "# Store train and test sequences\n",
    "X_train_seq, y_train_seq, X_test_seq, y_test_seq = [], [], [], []"
   ]
  },
  {
   "cell_type": "code",
   "execution_count": 47,
   "metadata": {},
   "outputs": [],
   "source": [
    "for i, flight_id in enumerate(flight_ids):\n",
    "    X_flight_seq, y_flight_seq = create_flight_sequences(all_X[i], all_y[i], time_steps=30)\n",
    "\n",
    "    if flight_id in train_flights:\n",
    "        X_train_seq.append(X_flight_seq)\n",
    "        y_train_seq.append(y_flight_seq)\n",
    "    else:\n",
    "        X_test_seq.append(X_flight_seq)\n",
    "        y_test_seq.append(y_flight_seq)"
   ]
  },
  {
   "cell_type": "code",
   "execution_count": 48,
   "metadata": {},
   "outputs": [],
   "source": [
    "# Convert lists to numpy arrays\n",
    "X_train_seq = np.concatenate(X_train_seq, axis=0)\n",
    "y_train_seq = np.concatenate(y_train_seq, axis=0)\n",
    "X_test_seq = np.concatenate(X_test_seq, axis=0)\n",
    "y_test_seq = np.concatenate(y_test_seq, axis=0)"
   ]
  },
  {
   "cell_type": "code",
   "execution_count": 49,
   "metadata": {},
   "outputs": [],
   "source": [
    "# Define the GRU model with hyperparameter tuning\n",
    "def build_model(hp):\n",
    "    model = Sequential()\n",
    "    \n",
    "    # First GRU Layer\n",
    "    model.add(GRU(units=hp.Int('gru_units_1', min_value=32, max_value=128, step=16),\n",
    "                  return_sequences=True,\n",
    "                  input_shape=(30, len(features))))\n",
    "    \n",
    "    # Dropout after first GRU layer\n",
    "    model.add(Dropout(hp.Float('dropout_1', min_value=0.1, max_value=0.5, step=0.1)))\n",
    "    \n",
    "    # Second GRU Layer\n",
    "    model.add(GRU(units=hp.Int('gru_units_2', min_value=16, max_value=64, step=16),\n",
    "                  return_sequences=False))  # Last recurrent layer\n",
    "    \n",
    "    # Dropout after second GRU layer\n",
    "    model.add(Dropout(hp.Float('dropout_2', min_value=0.1, max_value=0.5, step=0.1)))\n",
    "    \n",
    "    # Fully connected layers\n",
    "    model.add(Dense(units=hp.Int('dense_units', min_value=8, max_value=64, step=8), activation='relu'))\n",
    "    \n",
    "    # Output layer for binary classification (sigmoid activation)\n",
    "    model.add(Dense(1, activation='sigmoid'))  \n",
    "\n",
    "    # Compile the model\n",
    "    model.compile(optimizer=Adam(learning_rate=hp.Choice('learning_rate', values=[0.001, 0.0005, 0.0001])),\n",
    "                  loss='binary_crossentropy',\n",
    "                  metrics=['accuracy'])\n",
    "    \n",
    "    return model"
   ]
  },
  {
   "cell_type": "code",
   "execution_count": null,
   "metadata": {},
   "outputs": [
    {
     "name": "stderr",
     "output_type": "stream",
     "text": [
      "/opt/anaconda3/envs/capstone/lib/python3.11/site-packages/keras/src/layers/rnn/rnn.py:200: UserWarning: Do not pass an `input_shape`/`input_dim` argument to a layer. When using Sequential models, prefer using an `Input(shape)` object as the first layer in the model instead.\n",
      "  super().__init__(**kwargs)\n"
     ]
    }
   ],
   "source": [
    "# Set up Random Search using Keras Tuner\n",
    "tuner = RandomSearch(\n",
    "    build_model,\n",
    "    objective='val_accuracy',\n",
    "    max_trials=10,\n",
    "    executions_per_trial=1,\n",
    "    directory='tuner_results',\n",
    "    project_name='gru_fuel_leak_classification'\n",
    ")"
   ]
  },
  {
   "cell_type": "code",
   "execution_count": 52,
   "metadata": {},
   "outputs": [],
   "source": [
    "# Perform hyperparameter tuning\n",
    "tuner.search(X_train_seq, y_train_seq, epochs=10, batch_size=32,\n",
    "             validation_data=(X_test_seq, y_test_seq), verbose=1)"
   ]
  },
  {
   "cell_type": "code",
   "execution_count": null,
   "metadata": {},
   "outputs": [],
   "source": [
    "# Get the best model from tuning\n",
    "best_hps = tuner.get_best_hyperparameters(num_trials=1)[0]\n",
    "\n",
    "print(f\"\"\"\n",
    "Best hyperparameters found:\n",
    "GRU Units 1: {best_hps.get('gru_units_1')}\n",
    "GRU Units 2: {best_hps.get('gru_units_2')}\n",
    "Dropout 1: {best_hps.get('dropout_1')}\n",
    "Dropout 2: {best_hps.get('dropout_2')}\n",
    "Dense Units: {best_hps.get('dense_units')}\n",
    "Learning Rate: {best_hps.get('learning_rate')}\n",
    "\"\"\")"
   ]
  },
  {
   "cell_type": "code",
   "execution_count": null,
   "metadata": {},
   "outputs": [],
   "source": []
  }
 ],
 "metadata": {
  "kernelspec": {
   "display_name": "capstone",
   "language": "python",
   "name": "python3"
  },
  "language_info": {
   "codemirror_mode": {
    "name": "ipython",
    "version": 3
   },
   "file_extension": ".py",
   "mimetype": "text/x-python",
   "name": "python",
   "nbconvert_exporter": "python",
   "pygments_lexer": "ipython3",
   "version": "3.11.8"
  }
 },
 "nbformat": 4,
 "nbformat_minor": 2
}
